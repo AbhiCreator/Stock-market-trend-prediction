{
 "cells": [
  {
   "cell_type": "code",
   "execution_count": 22,
   "metadata": {},
   "outputs": [],
   "source": [
    "import numpy as np\n",
    "import pandas as pd\n",
    "import matplotlib.pyplot as plt\n",
    "import pandas_datareader as data"
   ]
  },
  {
   "cell_type": "code",
   "execution_count": 23,
   "metadata": {},
   "outputs": [
    {
     "data": {
      "text/html": [
       "<div>\n",
       "<style scoped>\n",
       "    .dataframe tbody tr th:only-of-type {\n",
       "        vertical-align: middle;\n",
       "    }\n",
       "\n",
       "    .dataframe tbody tr th {\n",
       "        vertical-align: top;\n",
       "    }\n",
       "\n",
       "    .dataframe thead th {\n",
       "        text-align: right;\n",
       "    }\n",
       "</style>\n",
       "<table border=\"1\" class=\"dataframe\">\n",
       "  <thead>\n",
       "    <tr style=\"text-align: right;\">\n",
       "      <th></th>\n",
       "      <th>High</th>\n",
       "      <th>Low</th>\n",
       "      <th>Open</th>\n",
       "      <th>Close</th>\n",
       "      <th>Volume</th>\n",
       "      <th>Adj Close</th>\n",
       "    </tr>\n",
       "    <tr>\n",
       "      <th>Date</th>\n",
       "      <th></th>\n",
       "      <th></th>\n",
       "      <th></th>\n",
       "      <th></th>\n",
       "      <th></th>\n",
       "      <th></th>\n",
       "    </tr>\n",
       "  </thead>\n",
       "  <tbody>\n",
       "    <tr>\n",
       "      <th>2012-01-03</th>\n",
       "      <td>15970.309570</td>\n",
       "      <td>15640.559570</td>\n",
       "      <td>15640.559570</td>\n",
       "      <td>15939.360352</td>\n",
       "      <td>16200.0</td>\n",
       "      <td>15939.360352</td>\n",
       "    </tr>\n",
       "    <tr>\n",
       "      <th>2012-01-04</th>\n",
       "      <td>16004.690430</td>\n",
       "      <td>15822.320312</td>\n",
       "      <td>15967.490234</td>\n",
       "      <td>15882.639648</td>\n",
       "      <td>17800.0</td>\n",
       "      <td>15882.639648</td>\n",
       "    </tr>\n",
       "    <tr>\n",
       "      <th>2012-01-05</th>\n",
       "      <td>15980.169922</td>\n",
       "      <td>15809.309570</td>\n",
       "      <td>15893.070312</td>\n",
       "      <td>15857.080078</td>\n",
       "      <td>21200.0</td>\n",
       "      <td>15857.080078</td>\n",
       "    </tr>\n",
       "    <tr>\n",
       "      <th>2012-01-06</th>\n",
       "      <td>16001.309570</td>\n",
       "      <td>15664.910156</td>\n",
       "      <td>15789.080078</td>\n",
       "      <td>15867.730469</td>\n",
       "      <td>17200.0</td>\n",
       "      <td>15867.730469</td>\n",
       "    </tr>\n",
       "    <tr>\n",
       "      <th>2012-01-09</th>\n",
       "      <td>15871.509766</td>\n",
       "      <td>15678.299805</td>\n",
       "      <td>15840.219727</td>\n",
       "      <td>15814.719727</td>\n",
       "      <td>11200.0</td>\n",
       "      <td>15814.719727</td>\n",
       "    </tr>\n",
       "  </tbody>\n",
       "</table>\n",
       "</div>"
      ],
      "text/plain": [
       "                    High           Low          Open         Close   Volume  \\\n",
       "Date                                                                          \n",
       "2012-01-03  15970.309570  15640.559570  15640.559570  15939.360352  16200.0   \n",
       "2012-01-04  16004.690430  15822.320312  15967.490234  15882.639648  17800.0   \n",
       "2012-01-05  15980.169922  15809.309570  15893.070312  15857.080078  21200.0   \n",
       "2012-01-06  16001.309570  15664.910156  15789.080078  15867.730469  17200.0   \n",
       "2012-01-09  15871.509766  15678.299805  15840.219727  15814.719727  11200.0   \n",
       "\n",
       "               Adj Close  \n",
       "Date                      \n",
       "2012-01-03  15939.360352  \n",
       "2012-01-04  15882.639648  \n",
       "2012-01-05  15857.080078  \n",
       "2012-01-06  15867.730469  \n",
       "2012-01-09  15814.719727  "
      ]
     },
     "execution_count": 23,
     "metadata": {},
     "output_type": "execute_result"
    }
   ],
   "source": [
    "start = '2012-01-01'\n",
    "end = '2019-12-31'\n",
    "\n",
    "df = data.DataReader('^BSESN', 'yahoo', start, end)\n",
    "df.head()"
   ]
  },
  {
   "cell_type": "code",
   "execution_count": 24,
   "metadata": {},
   "outputs": [
    {
     "data": {
      "text/html": [
       "<div>\n",
       "<style scoped>\n",
       "    .dataframe tbody tr th:only-of-type {\n",
       "        vertical-align: middle;\n",
       "    }\n",
       "\n",
       "    .dataframe tbody tr th {\n",
       "        vertical-align: top;\n",
       "    }\n",
       "\n",
       "    .dataframe thead th {\n",
       "        text-align: right;\n",
       "    }\n",
       "</style>\n",
       "<table border=\"1\" class=\"dataframe\">\n",
       "  <thead>\n",
       "    <tr style=\"text-align: right;\">\n",
       "      <th></th>\n",
       "      <th>Date</th>\n",
       "      <th>High</th>\n",
       "      <th>Low</th>\n",
       "      <th>Open</th>\n",
       "      <th>Close</th>\n",
       "      <th>Volume</th>\n",
       "      <th>Adj Close</th>\n",
       "    </tr>\n",
       "  </thead>\n",
       "  <tbody>\n",
       "    <tr>\n",
       "      <th>0</th>\n",
       "      <td>2012-01-03</td>\n",
       "      <td>15970.309570</td>\n",
       "      <td>15640.559570</td>\n",
       "      <td>15640.559570</td>\n",
       "      <td>15939.360352</td>\n",
       "      <td>16200.0</td>\n",
       "      <td>15939.360352</td>\n",
       "    </tr>\n",
       "    <tr>\n",
       "      <th>1</th>\n",
       "      <td>2012-01-04</td>\n",
       "      <td>16004.690430</td>\n",
       "      <td>15822.320312</td>\n",
       "      <td>15967.490234</td>\n",
       "      <td>15882.639648</td>\n",
       "      <td>17800.0</td>\n",
       "      <td>15882.639648</td>\n",
       "    </tr>\n",
       "    <tr>\n",
       "      <th>2</th>\n",
       "      <td>2012-01-05</td>\n",
       "      <td>15980.169922</td>\n",
       "      <td>15809.309570</td>\n",
       "      <td>15893.070312</td>\n",
       "      <td>15857.080078</td>\n",
       "      <td>21200.0</td>\n",
       "      <td>15857.080078</td>\n",
       "    </tr>\n",
       "    <tr>\n",
       "      <th>3</th>\n",
       "      <td>2012-01-06</td>\n",
       "      <td>16001.309570</td>\n",
       "      <td>15664.910156</td>\n",
       "      <td>15789.080078</td>\n",
       "      <td>15867.730469</td>\n",
       "      <td>17200.0</td>\n",
       "      <td>15867.730469</td>\n",
       "    </tr>\n",
       "    <tr>\n",
       "      <th>4</th>\n",
       "      <td>2012-01-09</td>\n",
       "      <td>15871.509766</td>\n",
       "      <td>15678.299805</td>\n",
       "      <td>15840.219727</td>\n",
       "      <td>15814.719727</td>\n",
       "      <td>11200.0</td>\n",
       "      <td>15814.719727</td>\n",
       "    </tr>\n",
       "  </tbody>\n",
       "</table>\n",
       "</div>"
      ],
      "text/plain": [
       "        Date          High           Low          Open         Close   Volume  \\\n",
       "0 2012-01-03  15970.309570  15640.559570  15640.559570  15939.360352  16200.0   \n",
       "1 2012-01-04  16004.690430  15822.320312  15967.490234  15882.639648  17800.0   \n",
       "2 2012-01-05  15980.169922  15809.309570  15893.070312  15857.080078  21200.0   \n",
       "3 2012-01-06  16001.309570  15664.910156  15789.080078  15867.730469  17200.0   \n",
       "4 2012-01-09  15871.509766  15678.299805  15840.219727  15814.719727  11200.0   \n",
       "\n",
       "      Adj Close  \n",
       "0  15939.360352  \n",
       "1  15882.639648  \n",
       "2  15857.080078  \n",
       "3  15867.730469  \n",
       "4  15814.719727  "
      ]
     },
     "execution_count": 24,
     "metadata": {},
     "output_type": "execute_result"
    }
   ],
   "source": [
    "df = df.reset_index()\n",
    "df.head()"
   ]
  },
  {
   "cell_type": "code",
   "execution_count": 25,
   "metadata": {},
   "outputs": [
    {
     "data": {
      "text/html": [
       "<div>\n",
       "<style scoped>\n",
       "    .dataframe tbody tr th:only-of-type {\n",
       "        vertical-align: middle;\n",
       "    }\n",
       "\n",
       "    .dataframe tbody tr th {\n",
       "        vertical-align: top;\n",
       "    }\n",
       "\n",
       "    .dataframe thead th {\n",
       "        text-align: right;\n",
       "    }\n",
       "</style>\n",
       "<table border=\"1\" class=\"dataframe\">\n",
       "  <thead>\n",
       "    <tr style=\"text-align: right;\">\n",
       "      <th></th>\n",
       "      <th>High</th>\n",
       "      <th>Low</th>\n",
       "      <th>Open</th>\n",
       "      <th>Close</th>\n",
       "      <th>Volume</th>\n",
       "    </tr>\n",
       "  </thead>\n",
       "  <tbody>\n",
       "    <tr>\n",
       "      <th>0</th>\n",
       "      <td>15970.309570</td>\n",
       "      <td>15640.559570</td>\n",
       "      <td>15640.559570</td>\n",
       "      <td>15939.360352</td>\n",
       "      <td>16200.0</td>\n",
       "    </tr>\n",
       "    <tr>\n",
       "      <th>1</th>\n",
       "      <td>16004.690430</td>\n",
       "      <td>15822.320312</td>\n",
       "      <td>15967.490234</td>\n",
       "      <td>15882.639648</td>\n",
       "      <td>17800.0</td>\n",
       "    </tr>\n",
       "    <tr>\n",
       "      <th>2</th>\n",
       "      <td>15980.169922</td>\n",
       "      <td>15809.309570</td>\n",
       "      <td>15893.070312</td>\n",
       "      <td>15857.080078</td>\n",
       "      <td>21200.0</td>\n",
       "    </tr>\n",
       "    <tr>\n",
       "      <th>3</th>\n",
       "      <td>16001.309570</td>\n",
       "      <td>15664.910156</td>\n",
       "      <td>15789.080078</td>\n",
       "      <td>15867.730469</td>\n",
       "      <td>17200.0</td>\n",
       "    </tr>\n",
       "    <tr>\n",
       "      <th>4</th>\n",
       "      <td>15871.509766</td>\n",
       "      <td>15678.299805</td>\n",
       "      <td>15840.219727</td>\n",
       "      <td>15814.719727</td>\n",
       "      <td>11200.0</td>\n",
       "    </tr>\n",
       "  </tbody>\n",
       "</table>\n",
       "</div>"
      ],
      "text/plain": [
       "           High           Low          Open         Close   Volume\n",
       "0  15970.309570  15640.559570  15640.559570  15939.360352  16200.0\n",
       "1  16004.690430  15822.320312  15967.490234  15882.639648  17800.0\n",
       "2  15980.169922  15809.309570  15893.070312  15857.080078  21200.0\n",
       "3  16001.309570  15664.910156  15789.080078  15867.730469  17200.0\n",
       "4  15871.509766  15678.299805  15840.219727  15814.719727  11200.0"
      ]
     },
     "execution_count": 25,
     "metadata": {},
     "output_type": "execute_result"
    }
   ],
   "source": [
    "df = df.drop(['Date', 'Adj Close'], axis = 1)\n",
    "df.head()"
   ]
  },
  {
   "cell_type": "code",
   "execution_count": 26,
   "metadata": {},
   "outputs": [
    {
     "data": {
      "text/plain": [
       "[<matplotlib.lines.Line2D at 0x2765bb44e50>]"
      ]
     },
     "execution_count": 26,
     "metadata": {},
     "output_type": "execute_result"
    },
    {
     "data": {
      "image/png": "[encoded data removed]",
      "text/plain": [
       "<Figure size 432x288 with 1 Axes>"
      ]
     },
     "metadata": {
      "needs_background": "light"
     },
     "output_type": "display_data"
    }
   ],
   "source": [
    "plt.plot(df.Close)"
   ]
  },
  {
   "cell_type": "code",
   "execution_count": 27,
   "metadata": {},
   "outputs": [
    {
     "data": {
      "text/plain": [
       "0                NaN\n",
       "1                NaN\n",
       "2                NaN\n",
       "3                NaN\n",
       "4                NaN\n",
       "            ...     \n",
       "1951    38870.630508\n",
       "1952    38903.958320\n",
       "1953    38940.881836\n",
       "1954    38979.598125\n",
       "1955    39018.163125\n",
       "Name: Close, Length: 1956, dtype: float64"
      ]
     },
     "execution_count": 27,
     "metadata": {},
     "output_type": "execute_result"
    }
   ],
   "source": [
    "ma100 = df.Close.rolling(100).mean()\n",
    "ma100"
   ]
  },
  {
   "cell_type": "code",
   "execution_count": 28,
   "metadata": {},
   "outputs": [
    {
     "data": {
      "text/plain": [
       "[<matplotlib.lines.Line2D at 0x2765b561dc0>]"
      ]
     },
     "execution_count": 28,
     "metadata": {},
     "output_type": "execute_result"
    },
    {
     "data": {
      "image/png": "[encoded data removed]",
      "text/plain": [
       "<Figure size 864x432 with 1 Axes>"
      ]
     },
     "metadata": {
      "needs_background": "light"
     },
     "output_type": "display_data"
    }
   ],
   "source": [
    "plt.figure(figsize=(12,6))\n",
    "plt.plot(df.Close)\n",
    "plt.plot(ma100, 'r')"
   ]
  },
  {
   "cell_type": "code",
   "execution_count": 29,
   "metadata": {},
   "outputs": [
    {
     "data": {
      "text/plain": [
       "0                NaN\n",
       "1                NaN\n",
       "2                NaN\n",
       "3                NaN\n",
       "4                NaN\n",
       "            ...     \n",
       "1951    38731.616816\n",
       "1952    38756.368730\n",
       "1953    38784.375879\n",
       "1954    38812.638730\n",
       "1955    38839.570215\n",
       "Name: Close, Length: 1956, dtype: float64"
      ]
     },
     "execution_count": 29,
     "metadata": {},
     "output_type": "execute_result"
    }
   ],
   "source": [
    "ma200 = df.Close.rolling(200).mean()\n",
    "ma200"
   ]
  },
  {
   "cell_type": "code",
   "execution_count": 30,
   "metadata": {},
   "outputs": [
    {
     "data": {
      "text/plain": [
       "[<matplotlib.lines.Line2D at 0x2765bb04580>]"
      ]
     },
     "execution_count": 30,
     "metadata": {},
     "output_type": "execute_result"
    },
    {
     "data": {
      "image/png": "[encoded data removed]",
      "text/plain": [
       "<Figure size 864x432 with 1 Axes>"
      ]
     },
     "metadata": {
      "needs_background": "light"
     },
     "output_type": "display_data"
    }
   ],
   "source": [
    "plt.figure(figsize=(12,6))\n",
    "plt.plot(df.Close)\n",
    "plt.plot(ma100, 'r')\n",
    "plt.plot(ma200, 'g')"
   ]
  },
  {
   "cell_type": "code",
   "execution_count": 31,
   "metadata": {},
   "outputs": [
    {
     "data": {
      "text/plain": [
       "(1956, 5)"
      ]
     },
     "execution_count": 31,
     "metadata": {},
     "output_type": "execute_result"
    }
   ],
   "source": [
    "df.shape"
   ]
  },
  {
   "cell_type": "code",
   "execution_count": 32,
   "metadata": {},
   "outputs": [
    {
     "name": "stdout",
     "output_type": "stream",
     "text": [
      "(1369, 1)\n",
      "(587, 1)\n"
     ]
    }
   ],
   "source": [
    "data_training = pd.DataFrame(df['Close'][0:int(len(df)*0.70)])\n",
    "data_testing = pd.DataFrame(df['Close'][int(len(df)*0.70): int(len(df))])\n",
    "\n",
    "print(data_training.shape)\n",
    "print(data_testing.shape)\n"
   ]
  },
  {
   "cell_type": "code",
   "execution_count": 33,
   "metadata": {},
   "outputs": [],
   "source": [
    "from sklearn.preprocessing import MinMaxScaler\n",
    "scaler = MinMaxScaler(feature_range = (0,1))"
   ]
  },
  {
   "cell_type": "code",
   "execution_count": 34,
   "metadata": {},
   "outputs": [],
   "source": [
    "data_training_array = scaler.fit_transform(data_training)"
   ]
  },
  {
   "cell_type": "code",
   "execution_count": 35,
   "metadata": {},
   "outputs": [
    {
     "data": {
      "text/plain": [
       "array([[0.00743659],\n",
       "       [0.00405239],\n",
       "       [0.0025274 ],\n",
       "       ...,\n",
       "       [0.99412726],\n",
       "       [0.97987589],\n",
       "       [0.98509827]])"
      ]
     },
     "execution_count": 35,
     "metadata": {},
     "output_type": "execute_result"
    }
   ],
   "source": [
    "data_training_array"
   ]
  },
  {
   "cell_type": "code",
   "execution_count": 36,
   "metadata": {},
   "outputs": [
    {
     "data": {
      "text/plain": [
       "(1369, 1)"
      ]
     },
     "execution_count": 36,
     "metadata": {},
     "output_type": "execute_result"
    }
   ],
   "source": [
    "data_training_array.shape"
   ]
  },
  {
   "cell_type": "code",
   "execution_count": 37,
   "metadata": {},
   "outputs": [],
   "source": [
    "x_train = []\n",
    "y_train = []\n",
    "\n",
    "for i in range(100,data_training_array.shape[0]):\n",
    "    x_train.append(data_training_array[i-100:i])\n",
    "    y_train.append(data_training_array[i, 0])\n"
   ]
  },
  {
   "cell_type": "code",
   "execution_count": 38,
   "metadata": {},
   "outputs": [],
   "source": [
    "x_train, y_train = np.array(x_train), np.array(y_train)"
   ]
  },
  {
   "cell_type": "code",
   "execution_count": 39,
   "metadata": {},
   "outputs": [],
   "source": [
    "#ML Model"
   ]
  },
  {
   "cell_type": "code",
   "execution_count": 43,
   "metadata": {},
   "outputs": [],
   "source": [
    "from keras.layers import Dense, Dropout, LSTM\n",
    "from keras.models import Sequential"
   ]
  },
  {
   "cell_type": "code",
   "execution_count": 49,
   "metadata": {},
   "outputs": [],
   "source": [
    "model = Sequential()\n",
    "model.add(LSTM(units = 50, activation = 'relu', return_sequences = True,\n",
    "              input_shape = (x_train.shape[1], 1)))\n",
    "model.add(Dropout(0.2)) \n",
    "\n",
    "\n",
    "model.add(LSTM(units = 60, activation = 'relu', return_sequences = True))\n",
    "model.add(Dropout(0.3))\n",
    "\n",
    "\n",
    "\n",
    "\n",
    "\n",
    "model.add(LSTM(units = 80, activation = 'relu', return_sequences = True))\n",
    "model.add(Dropout(.4))\n",
    "\n",
    "\n",
    "model.add(LSTM(units = 120, activation = 'relu'))\n",
    "model.add(Dropout(.5))\n",
    "\n",
    "\n",
    "model.add(Dense(units = 1))"
   ]
  },
  {
   "cell_type": "code",
   "execution_count": 50,
   "metadata": {},
   "outputs": [
    {
     "name": "stdout",
     "output_type": "stream",
     "text": [
      "Model: \"sequential_1\"\n",
      "_________________________________________________________________\n",
      " Layer (type)                Output Shape              Param #   \n",
      "=================================================================\n",
      " lstm_4 (LSTM)               (None, 100, 50)           10400     \n",
      "                                                                 \n",
      " dropout_4 (Dropout)         (None, 100, 50)           0         \n",
      "                                                                 \n",
      " lstm_5 (LSTM)               (None, 100, 60)           26640     \n",
      "                                                                 \n",
      " dropout_5 (Dropout)         (None, 100, 60)           0         \n",
      "                                                                 \n",
      " lstm_6 (LSTM)               (None, 100, 80)           45120     \n",
      "                                                                 \n",
      " dropout_6 (Dropout)         (None, 100, 80)           0         \n",
      "                                                                 \n",
      " lstm_7 (LSTM)               (None, 120)               96480     \n",
      "                                                                 \n",
      " dropout_7 (Dropout)         (None, 120)               0         \n",
      "                                                                 \n",
      " dense_1 (Dense)             (None, 1)                 121       \n",
      "                                                                 \n",
      "=================================================================\n",
      "Total params: 178,761\n",
      "Trainable params: 178,761\n",
      "Non-trainable params: 0\n",
      "_________________________________________________________________\n"
     ]
    }
   ],
   "source": [
    "model.summary()"
   ]
  },
  {
   "cell_type": "code",
   "execution_count": 51,
   "metadata": {},
   "outputs": [
    {
     "name": "stdout",
     "output_type": "stream",
     "text": [
      "Epoch 1/50\n",
      "40/40 [==============================] - 10s 171ms/step - loss: 0.0817\n",
      "Epoch 2/50\n",
      "40/40 [==============================] - 7s 165ms/step - loss: 0.0167\n",
      "Epoch 3/50\n",
      "40/40 [==============================] - 7s 170ms/step - loss: 0.0127\n",
      "Epoch 4/50\n",
      "40/40 [==============================] - 6s 162ms/step - loss: 0.0119\n",
      "Epoch 5/50\n",
      "40/40 [==============================] - 7s 165ms/step - loss: 0.0102\n",
      "Epoch 6/50\n",
      "40/40 [==============================] - 6s 160ms/step - loss: 0.0089\n",
      "Epoch 7/50\n",
      "40/40 [==============================] - 6s 155ms/step - loss: 0.0085\n",
      "Epoch 8/50\n",
      "40/40 [==============================] - 6s 151ms/step - loss: 0.0080\n",
      "Epoch 9/50\n",
      "40/40 [==============================] - 7s 164ms/step - loss: 0.0099\n",
      "Epoch 10/50\n",
      "40/40 [==============================] - 6s 159ms/step - loss: 0.0082\n",
      "Epoch 11/50\n",
      "40/40 [==============================] - 6s 154ms/step - loss: 0.0083\n",
      "Epoch 12/50\n",
      "40/40 [==============================] - 6s 157ms/step - loss: 0.0093\n",
      "Epoch 13/50\n",
      "40/40 [==============================] - 6s 150ms/step - loss: 0.0074\n",
      "Epoch 14/50\n",
      "40/40 [==============================] - 6s 150ms/step - loss: 0.0070\n",
      "Epoch 15/50\n",
      "40/40 [==============================] - 6s 155ms/step - loss: 0.0072\n",
      "Epoch 16/50\n",
      "40/40 [==============================] - 6s 158ms/step - loss: 0.0077\n",
      "Epoch 17/50\n",
      "40/40 [==============================] - 6s 156ms/step - loss: 0.0074\n",
      "Epoch 18/50\n",
      "40/40 [==============================] - 7s 166ms/step - loss: 0.0067\n",
      "Epoch 19/50\n",
      "40/40 [==============================] - 6s 156ms/step - loss: 0.0071\n",
      "Epoch 20/50\n",
      "40/40 [==============================] - 6s 161ms/step - loss: 0.0072\n",
      "Epoch 21/50\n",
      "40/40 [==============================] - 6s 158ms/step - loss: 0.0064\n",
      "Epoch 22/50\n",
      "40/40 [==============================] - 6s 157ms/step - loss: 0.0061\n",
      "Epoch 23/50\n",
      "40/40 [==============================] - 7s 163ms/step - loss: 0.0062\n",
      "Epoch 24/50\n",
      "40/40 [==============================] - 6s 156ms/step - loss: 0.0058\n",
      "Epoch 25/50\n",
      "40/40 [==============================] - 6s 160ms/step - loss: 0.0054\n",
      "Epoch 26/50\n",
      "40/40 [==============================] - 6s 158ms/step - loss: 0.0057\n",
      "Epoch 27/50\n",
      "40/40 [==============================] - 6s 156ms/step - loss: 0.0057\n",
      "Epoch 28/50\n",
      "40/40 [==============================] - 7s 171ms/step - loss: 0.0054\n",
      "Epoch 29/50\n",
      "40/40 [==============================] - 6s 156ms/step - loss: 0.0054\n",
      "Epoch 30/50\n",
      "40/40 [==============================] - 6s 159ms/step - loss: 0.0052\n",
      "Epoch 31/50\n",
      "40/40 [==============================] - 6s 162ms/step - loss: 0.0053\n",
      "Epoch 32/50\n",
      "40/40 [==============================] - 6s 156ms/step - loss: 0.0053\n",
      "Epoch 33/50\n",
      "40/40 [==============================] - 6s 163ms/step - loss: 0.0050\n",
      "Epoch 34/50\n",
      "40/40 [==============================] - 6s 157ms/step - loss: 0.0044\n",
      "Epoch 35/50\n",
      "40/40 [==============================] - 6s 161ms/step - loss: 0.0045\n",
      "Epoch 36/50\n",
      "40/40 [==============================] - 6s 158ms/step - loss: 0.0045\n",
      "Epoch 37/50\n",
      "40/40 [==============================] - 6s 157ms/step - loss: 0.0048\n",
      "Epoch 38/50\n",
      "40/40 [==============================] - 7s 163ms/step - loss: 0.0045\n",
      "Epoch 39/50\n",
      "40/40 [==============================] - 6s 157ms/step - loss: 0.0043\n",
      "Epoch 40/50\n",
      "40/40 [==============================] - 6s 161ms/step - loss: 0.0043\n",
      "Epoch 41/50\n",
      "40/40 [==============================] - 6s 158ms/step - loss: 0.0036\n",
      "Epoch 42/50\n",
      "40/40 [==============================] - 6s 155ms/step - loss: 0.0045\n",
      "Epoch 43/50\n",
      "40/40 [==============================] - 7s 166ms/step - loss: 0.0041\n",
      "Epoch 44/50\n",
      "40/40 [==============================] - 6s 157ms/step - loss: 0.0042\n",
      "Epoch 45/50\n",
      "40/40 [==============================] - 6s 160ms/step - loss: 0.0039\n",
      "Epoch 46/50\n",
      "40/40 [==============================] - 6s 159ms/step - loss: 0.0038\n",
      "Epoch 47/50\n",
      "40/40 [==============================] - 6s 155ms/step - loss: 0.0036\n",
      "Epoch 48/50\n",
      "40/40 [==============================] - 6s 162ms/step - loss: 0.0033\n",
      "Epoch 49/50\n",
      "40/40 [==============================] - 6s 157ms/step - loss: 0.0038\n",
      "Epoch 50/50\n",
      "40/40 [==============================] - 6s 160ms/step - loss: 0.0036\n"
     ]
    },
    {
     "data": {
      "text/plain": [
       "<keras.callbacks.History at 0x2766d4c2880>"
      ]
     },
     "execution_count": 51,
     "metadata": {},
     "output_type": "execute_result"
    }
   ],
   "source": [
    "model.compile(optimizer='adam', loss='mean_squared_error')\n",
    "model.fit(x_train, y_train, epochs = 50)"
   ]
  },
  {
   "cell_type": "code",
   "execution_count": 52,
   "metadata": {},
   "outputs": [],
   "source": [
    "model.save('keras_model.h5')"
   ]
  },
  {
   "cell_type": "code",
   "execution_count": 53,
   "metadata": {},
   "outputs": [],
   "source": [
    "past_100_days = data_testing .tail(100)"
   ]
  },
  {
   "cell_type": "code",
   "execution_count": 54,
   "metadata": {},
   "outputs": [],
   "source": [
    "final_df = past_100_days.append(data_testing, ignore_index=True)"
   ]
  },
  {
   "cell_type": "code",
   "execution_count": 55,
   "metadata": {},
   "outputs": [
    {
     "data": {
      "text/html": [
       "<div>\n",
       "<style scoped>\n",
       "    .dataframe tbody tr th:only-of-type {\n",
       "        vertical-align: middle;\n",
       "    }\n",
       "\n",
       "    .dataframe tbody tr th {\n",
       "        vertical-align: top;\n",
       "    }\n",
       "\n",
       "    .dataframe thead th {\n",
       "        text-align: right;\n",
       "    }\n",
       "</style>\n",
       "<table border=\"1\" class=\"dataframe\">\n",
       "  <thead>\n",
       "    <tr style=\"text-align: right;\">\n",
       "      <th></th>\n",
       "      <th>Close</th>\n",
       "    </tr>\n",
       "  </thead>\n",
       "  <tbody>\n",
       "    <tr>\n",
       "      <th>0</th>\n",
       "      <td>37481.121094</td>\n",
       "    </tr>\n",
       "    <tr>\n",
       "      <th>1</th>\n",
       "      <td>37018.320312</td>\n",
       "    </tr>\n",
       "    <tr>\n",
       "      <th>2</th>\n",
       "      <td>37118.218750</td>\n",
       "    </tr>\n",
       "    <tr>\n",
       "      <th>3</th>\n",
       "      <td>36699.839844</td>\n",
       "    </tr>\n",
       "    <tr>\n",
       "      <th>4</th>\n",
       "      <td>36976.851562</td>\n",
       "    </tr>\n",
       "  </tbody>\n",
       "</table>\n",
       "</div>"
      ],
      "text/plain": [
       "          Close\n",
       "0  37481.121094\n",
       "1  37018.320312\n",
       "2  37118.218750\n",
       "3  36699.839844\n",
       "4  36976.851562"
      ]
     },
     "execution_count": 55,
     "metadata": {},
     "output_type": "execute_result"
    }
   ],
   "source": [
    "final_df.head()"
   ]
  },
  {
   "cell_type": "code",
   "execution_count": 56,
   "metadata": {},
   "outputs": [],
   "source": [
    "input_data = scaler.fit_transform(final_df)"
   ]
  },
  {
   "cell_type": "code",
   "execution_count": 57,
   "metadata": {},
   "outputs": [
    {
     "data": {
      "text/plain": [
       "(687, 1)"
      ]
     },
     "execution_count": 57,
     "metadata": {},
     "output_type": "execute_result"
    }
   ],
   "source": [
    "input_data.shape"
   ]
  },
  {
   "cell_type": "code",
   "execution_count": 59,
   "metadata": {},
   "outputs": [],
   "source": [
    "x_test = []\n",
    "y_test = []\n",
    "\n",
    "for i in range(100, input_data.shape[0]):\n",
    "    x_test.append(input_data[i-100:i])\n",
    "    y_test.append(input_data[i,0])"
   ]
  },
  {
   "cell_type": "code",
   "execution_count": 61,
   "metadata": {},
   "outputs": [],
   "source": [
    "x_test, y_test = np.array(x_test), np.array(y_test)"
   ]
  },
  {
   "cell_type": "code",
   "execution_count": 62,
   "metadata": {},
   "outputs": [],
   "source": [
    "#prediction\n",
    "\n",
    "Y_predicted = model.predict(x_test)"
   ]
  },
  {
   "cell_type": "code",
   "execution_count": 64,
   "metadata": {},
   "outputs": [
    {
     "data": {
      "text/plain": [
       "array([9.50414182e-05])"
      ]
     },
     "execution_count": 64,
     "metadata": {},
     "output_type": "execute_result"
    }
   ],
   "source": [
    "scaler.scale_"
   ]
  },
  {
   "cell_type": "code",
   "execution_count": 67,
   "metadata": {},
   "outputs": [],
   "source": [
    "scale_factor = 1/ 9.50414182e-05\n",
    "Y_predicted = Y_predicted * scale_factor\n",
    "y_test = y_test * scale_factor"
   ]
  },
  {
   "cell_type": "code",
   "execution_count": 68,
   "metadata": {},
   "outputs": [
    {
     "data": {
      "image/png": "[encoded data removed]",
      "text/plain": [
       "<Figure size 864x432 with 1 Axes>"
      ]
     },
     "metadata": {
      "needs_background": "light"
     },
     "output_type": "display_data"
    }
   ],
   "source": [
    "plt.figure(figsize=(12,6))\n",
    "plt.plot(y_test, 'b', label = 'Original Price')\n",
    "plt.plot(Y_predicted, 'r', label = 'Predicted Price')\n",
    "plt.xlabel('Time')\n",
    "plt.ylabel('Price')\n",
    "plt.legend()\n",
    "plt.show()"
   ]
  },
  {
   "cell_type": "code",
   "execution_count": null,
   "metadata": {},
   "outputs": [],
   "source": []
  }
 ],
 "metadata": {
  "kernelspec": {
   "display_name": "Python 3",
   "language": "python",
   "name": "python3"
  },
  "language_info": {
   "codemirror_mode": {
    "name": "ipython",
    "version": 3
   },
   "file_extension": ".py",
   "mimetype": "text/x-python",
   "name": "python",
   "nbconvert_exporter": "python",
   "pygments_lexer": "ipython3",
   "version": "3.8.5"
  },
  "varInspector": {
   "cols": {
    "lenName": 16,
    "lenType": 16,
    "lenVar": 40
   },
   "kernels_config": {
    "python": {
     "delete_cmd_postfix": "",
     "delete_cmd_prefix": "del ",
     "library": "var_list.py",
     "varRefreshCmd": "print(var_dic_list())"
    },
    "r": {
     "delete_cmd_postfix": ") ",
     "delete_cmd_prefix": "rm(",
     "library": "var_list.r",
     "varRefreshCmd": "cat(var_dic_list()) "
    }
   },
   "types_to_exclude": [
    "module",
    "function",
    "builtin_function_or_method",
    "instance",
    "_Feature"
   ],
   "window_display": false
  }
 },
 "nbformat": 4,
 "nbformat_minor": 4
}
